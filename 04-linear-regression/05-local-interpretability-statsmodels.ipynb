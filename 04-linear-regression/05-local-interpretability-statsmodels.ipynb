{
 "cells": [
  {
   "cell_type": "markdown",
   "id": "0",
   "metadata": {},
   "source": [
    "# Local interpretability\n",
    "\n",
    "This notebook will evaluate the contribution of each feature towards the target value, for a single observation, using StatsModels.\n",
    "\n",
    "Based on [Christoph Molnar's book](https://christophm.github.io/interpretable-ml-book/limo.html#effect-plot)"
   ]
  },
  {
   "cell_type": "code",
   "execution_count": null,
   "id": "1",
   "metadata": {},
   "outputs": [],
   "source": [
    "# Packages\n",
    "\n",
    "import pandas as pd\n",
    "import matplotlib.pyplot as plt\n",
    "\n",
    "import statsmodels.api as sm\n",
    "\n",
    "from sklearn.datasets import fetch_california_housing\n",
    "from sklearn.model_selection import train_test_split\n",
    "from sklearn.preprocessing import MinMaxScaler"
   ]
  },
  {
   "cell_type": "markdown",
   "id": "2",
   "metadata": {},
   "source": [
    "## Load data"
   ]
  },
  {
   "cell_type": "code",
   "execution_count": null,
   "id": "3",
   "metadata": {},
   "outputs": [],
   "source": [
    "# load the California House price data from Scikit-learn\n",
    "X, y = fetch_california_housing(return_X_y=True, as_frame=True)\n",
    "X = X.drop(columns = [\"Latitude\", \"Longitude\", \"AveBedrms\"])\n",
    "\n",
    "# Split data\n",
    "X_train, X_test, y_train, y_test = train_test_split(\n",
    "    X, y, test_size=0.3, random_state=0,\n",
    ")\n",
    "\n",
    "# Scale data\n",
    "scaler = MinMaxScaler().set_output(transform=\"pandas\").fit(X_train)\n",
    "X_train = scaler.transform(X_train)\n",
    "X_test = scaler.transform(X_test)"
   ]
  },
  {
   "cell_type": "markdown",
   "id": "4",
   "metadata": {},
   "source": [
    "## Linear regression"
   ]
  },
  {
   "cell_type": "code",
   "execution_count": null,
   "id": "5",
   "metadata": {},
   "outputs": [],
   "source": [
    "# Our model needs an intercept so we add a column of 1s:\n",
    "\n",
    "X_train = sm.add_constant(X_train)\n",
    "X_test = sm.add_constant(X_test)"
   ]
  },
  {
   "cell_type": "code",
   "execution_count": null,
   "id": "6",
   "metadata": {},
   "outputs": [],
   "source": [
    "# Fit model\n",
    "\n",
    "linreg = sm.OLS(y_train, X_train)\n",
    "results = linreg.fit()\n",
    "print(results.summary())"
   ]
  },
  {
   "cell_type": "markdown",
   "id": "7",
   "metadata": {},
   "source": [
    "## Coefficients direction (sign)"
   ]
  },
  {
   "cell_type": "code",
   "execution_count": null,
   "id": "8",
   "metadata": {},
   "outputs": [],
   "source": [
    "# Coefficients value\n",
    "\n",
    "pd.Series(results.params, index=X_train.columns).plot.bar(\n",
    "    yerr=pd.Series(results.bse))\n",
    "\n",
    "plt.ylabel(\"Coefficients' value\")\n",
    "plt.title(\"Coefficients\")\n",
    "plt.show()"
   ]
  },
  {
   "cell_type": "markdown",
   "id": "9",
   "metadata": {},
   "source": [
    "## Effect plots\n",
    "\n",
    "The effect is the coefficient multiplied by the feature value. Doing this for each observation can give a better understanding of the contribution of each feature to the target."
   ]
  },
  {
   "cell_type": "code",
   "execution_count": null,
   "id": "10",
   "metadata": {},
   "outputs": [],
   "source": [
    "# multiply the coefficients by the feature values\n",
    "effects = results.params * X_test\n",
    "\n",
    "# plot the effects\n",
    "effects.boxplot(figsize=(8,6))\n",
    "plt.ylabel(\"Effects (coeff x feature)\");"
   ]
  },
  {
   "cell_type": "markdown",
   "id": "11",
   "metadata": {},
   "source": [
    "## Local interpretability\n",
    "\n",
    "Let's take an individual observation and evaluate how its feature values contribute towards house price."
   ]
  },
  {
   "cell_type": "code",
   "execution_count": null,
   "id": "12",
   "metadata": {},
   "outputs": [],
   "source": [
    "# Let's pick up a few observations\n",
    "\n",
    "X_test.tail()"
   ]
  },
  {
   "cell_type": "code",
   "execution_count": null,
   "id": "13",
   "metadata": {},
   "outputs": [],
   "source": [
    "# Helper functions\n",
    "\n",
    "def get_observation_values(obv):\n",
    "    \"\"\"Return values of an observation obs\"\"\"\n",
    "    return X_test.loc[obv]\n",
    "\n",
    "def compute_effects(obv):\n",
    "    \"\"\"Compute effect of an observation to the target\"\"\"\n",
    "    return results.params * get_observation_values(obv)\n",
    "\n",
    "def plot_effect(obv, obv_effect):\n",
    "    \"\"\"Plot effect of an observation\"\"\"\n",
    "    obv_effect.plot.bar()\n",
    "\n",
    "    plt.axhline(y=0, color='r', linestyle='-')\n",
    "    plt.ylabel(\"Coefficient x feature value\")\n",
    "    plt.title(f\"Local interpretability for {obv}\")\n",
    "    plt.show()\n",
    "\n",
    "def show_observation_in_effects(obv_effect):\n",
    "    \"\"\"overlay the individual observation to the effects\"\"\"\n",
    "\n",
    "    effects.boxplot(figsize=(8,6), positions=range(len(effects.columns)))\n",
    "    plt.scatter(effects.columns, obv_effect,  marker='o', color=\"r\", s=50)\n",
    "    plt.ylabel(\"Effects (coeff x feature)\")\n",
    "    plt.show()"
   ]
  },
  {
   "cell_type": "code",
   "execution_count": null,
   "id": "14",
   "metadata": {},
   "outputs": [],
   "source": [
    "# Case: observation 12156\n",
    "\n",
    "obs = 12156\n",
    "get_observation_values(obs)"
   ]
  },
  {
   "cell_type": "code",
   "execution_count": null,
   "id": "15",
   "metadata": {},
   "outputs": [],
   "source": [
    "# Compute effect\n",
    "\n",
    "effect = compute_effects(obs)\n",
    "effect"
   ]
  },
  {
   "cell_type": "code",
   "execution_count": null,
   "id": "16",
   "metadata": {},
   "outputs": [],
   "source": [
    "# Plot effect\n",
    "\n",
    "plot_effect(obs, effect)"
   ]
  },
  {
   "cell_type": "code",
   "execution_count": null,
   "id": "17",
   "metadata": {},
   "outputs": [],
   "source": [
    "# overlay the individual observation to the effects\n",
    "\n",
    "show_observation_in_effects(effect)"
   ]
  },
  {
   "cell_type": "code",
   "execution_count": null,
   "id": "18",
   "metadata": {},
   "outputs": [],
   "source": [
    "# Case: observation 2445\n",
    "\n",
    "obs = 2445\n",
    "get_observation_values(obs)"
   ]
  },
  {
   "cell_type": "code",
   "execution_count": null,
   "id": "19",
   "metadata": {},
   "outputs": [],
   "source": [
    "# Compute effect and plot observation's feature effect\n",
    "\n",
    "effect = compute_effects(obs)\n",
    "plot_effect(obs, effect)"
   ]
  },
  {
   "cell_type": "code",
   "execution_count": null,
   "id": "20",
   "metadata": {},
   "outputs": [],
   "source": [
    "# overlay the individual observation to the effects\n",
    "\n",
    "show_observation_in_effects(effect)"
   ]
  },
  {
   "cell_type": "code",
   "execution_count": null,
   "id": "21",
   "metadata": {},
   "outputs": [],
   "source": []
  }
 ],
 "metadata": {
  "kernelspec": {
   "display_name": "Python 3",
   "language": "python",
   "name": "python3"
  },
  "language_info": {
   "codemirror_mode": {
    "name": "ipython",
    "version": 2
   },
   "file_extension": ".py",
   "mimetype": "text/x-python",
   "name": "python",
   "nbconvert_exporter": "python",
   "pygments_lexer": "ipython2",
   "version": "2.7.6"
  }
 },
 "nbformat": 4,
 "nbformat_minor": 5
}
