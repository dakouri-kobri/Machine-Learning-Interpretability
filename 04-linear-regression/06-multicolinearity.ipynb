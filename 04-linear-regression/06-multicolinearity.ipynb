{
 "cells": [
  {
   "cell_type": "markdown",
   "id": "0",
   "metadata": {},
   "source": [
    "# Multicollinearity\n",
    "\n",
    "This notebook we will examine the impact of collinearity on linear regression model coefficients."
   ]
  },
  {
   "cell_type": "code",
   "execution_count": null,
   "id": "1",
   "metadata": {},
   "outputs": [],
   "source": [
    "# Packages\n",
    "\n",
    "import pandas as pd\n",
    "import matplotlib.pyplot as plt\n",
    "import seaborn as sns\n",
    "\n",
    "import statsmodels.api as sm\n",
    "\n",
    "# the dataset for the demo\n",
    "from sklearn.datasets import fetch_california_housing\n",
    "from sklearn.feature_selection import f_regression, r_regression\n",
    "from sklearn.model_selection import train_test_split\n",
    "from sklearn.preprocessing import MinMaxScaler"
   ]
  },
  {
   "cell_type": "markdown",
   "id": "2",
   "metadata": {},
   "source": [
    "## Load data"
   ]
  },
  {
   "cell_type": "code",
   "execution_count": null,
   "id": "3",
   "metadata": {},
   "outputs": [],
   "source": [
    "# load the California House price data from Scikit-learn\n",
    "X, y = fetch_california_housing(return_X_y=True, as_frame=True)\n",
    "X = X.drop(columns = [\"Latitude\", \"Longitude\"])\n",
    "\n",
    "# Split data\n",
    "X_train, X_test, y_train, y_test = train_test_split(\n",
    "    X, y, test_size=0.3, random_state=0,\n",
    ")\n",
    "\n",
    "# Scale data\n",
    "scaler = MinMaxScaler().set_output(transform=\"pandas\").fit(X_train)\n",
    "X_train = scaler.transform(X_train)\n",
    "X_test = scaler.transform(X_test)"
   ]
  },
  {
   "cell_type": "code",
   "execution_count": null,
   "id": "4",
   "metadata": {},
   "outputs": [],
   "source": [
    "print('X_train shape: ', X_train.shape)\n",
    "print('y_train shape: ', y_train.shape)\n",
    "print('X_test shape: ', X_test.shape)\n",
    "print('y_test shape: ', y_test.shape)\n",
    "print()\n",
    "\n",
    "print('5 first rows in X_train:')\n",
    "X_train.head()"
   ]
  },
  {
   "cell_type": "markdown",
   "id": "5",
   "metadata": {},
   "source": [
    "## Correlation\n",
    "\n",
    "Let's determine the correlation among the predictors."
   ]
  },
  {
   "cell_type": "code",
   "execution_count": null,
   "id": "6",
   "metadata": {},
   "outputs": [],
   "source": [
    "# We calculate the correlations using pandas corr()\n",
    "# and we round the values to 2 decimals.\n",
    "correlation_matrix = X_train.corr().round(2)\n",
    "\n",
    "# Plot the correlation matrix using seaborn.\n",
    "# We use annot = True to print the correlation values\n",
    "# inside the squares.\n",
    "\n",
    "figure = plt.figure(figsize=(8, 8))\n",
    "sns.heatmap(data=correlation_matrix, annot=True);"
   ]
  },
  {
   "cell_type": "markdown",
   "id": "7",
   "metadata": {},
   "source": [
    "We see that `AveRooms` and `AveBdrms`, as expected, are highly correlated.\n",
    "There is also some correlation between `AveRooms` and the `MedInc` of the `HouseAge` and `Population`."
   ]
  },
  {
   "cell_type": "markdown",
   "id": "8",
   "metadata": {},
   "source": [
    "## Train a linear regression model with StatsModels"
   ]
  },
  {
   "cell_type": "code",
   "execution_count": null,
   "id": "9",
   "metadata": {},
   "outputs": [],
   "source": [
    "# The model needs an intercept so we add a column of 1s:\n",
    "\n",
    "X_train = sm.add_constant(X_train)\n",
    "X_test = sm.add_constant(X_test)"
   ]
  },
  {
   "cell_type": "code",
   "execution_count": null,
   "id": "10",
   "metadata": {},
   "outputs": [],
   "source": [
    "# Fit model\n",
    "\n",
    "linreg = sm.OLS(y_train, X_train)\n",
    "results = linreg.fit()\n",
    "print(results.summary())"
   ]
  },
  {
   "cell_type": "markdown",
   "id": "11",
   "metadata": {},
   "source": [
    "## Coefficients direction (sign)"
   ]
  },
  {
   "cell_type": "code",
   "execution_count": null,
   "id": "12",
   "metadata": {},
   "outputs": [],
   "source": [
    "# Coefficients value\n",
    "\n",
    "pd.Series(results.params, index=X_train.columns).plot.bar(\n",
    "    yerr=pd.Series(results.bse))\n",
    "\n",
    "plt.ylabel(\"Coefficients' value\")\n",
    "plt.title(\"Coefficients\")\n",
    "plt.show()"
   ]
  },
  {
   "cell_type": "markdown",
   "id": "13",
   "metadata": {},
   "source": [
    "Even though the variables `AveRooms` and `AveBdrms` are highly correlated, they show different directions in their contribution toward the target variable, and this is because of the correlation."
   ]
  },
  {
   "cell_type": "markdown",
   "id": "14",
   "metadata": {},
   "source": [
    "## Scatter plots\n",
    "\n",
    "Let's explore the true relationship between `AveRooms` and `AveBdrms` and the target."
   ]
  },
  {
   "cell_type": "code",
   "execution_count": null,
   "id": "15",
   "metadata": {},
   "outputs": [],
   "source": [
    "plt.figure(figsize=(12, 4), dpi=80)\n",
    "\n",
    "plt.subplot(1, 3, 1)\n",
    "plt.scatter(X_train['AveRooms'], y_train, marker=\"o\")\n",
    "plt.xlabel('Number of rooms')\n",
    "plt.ylabel('House price')\n",
    "\n",
    "plt.subplot(1, 3, 2)\n",
    "plt.plot(X_train['AveBedrms'], y_train,marker=\"o\", ls=\"\")\n",
    "plt.xlabel('Number of bedrooms')\n",
    "plt.ylabel('House price')\n",
    "\n",
    "plt.subplot(1, 3, 3)\n",
    "plt.plot(X_train['AveBedrms'], X_train['AveRooms'], marker=\"o\", ls=\"\")\n",
    "plt.xlabel('Number of bedrooms')\n",
    "plt.ylabel('Number of rooms')\n",
    "\n",
    "plt.show()"
   ]
  },
  {
   "cell_type": "markdown",
   "id": "16",
   "metadata": {},
   "source": [
    "It is hard to see a clear association between `AveRooms` and `AveBdrms` and the target, but if anything else, by eye it looks very similar."
   ]
  },
  {
   "cell_type": "markdown",
   "id": "17",
   "metadata": {},
   "source": [
    "## Correlation with the target\n",
    "\n",
    "Let's then calculate the correlation coefficient and its significance."
   ]
  },
  {
   "cell_type": "code",
   "execution_count": null,
   "id": "18",
   "metadata": {},
   "outputs": [],
   "source": [
    "# Pearson's correlation coefficient\n",
    "\n",
    "r_regression(X_train[['AveRooms', 'AveBedrms']], y_train)"
   ]
  },
  {
   "cell_type": "code",
   "execution_count": null,
   "id": "19",
   "metadata": {},
   "outputs": [],
   "source": [
    "# Significance\n",
    "\n",
    "f_regression(X_train[['AveRooms', 'AveBedrms']], y_train)[1:]"
   ]
  },
  {
   "cell_type": "markdown",
   "id": "20",
   "metadata": {},
   "source": [
    "There is a positive association between the number of rooms and the house price, that is also significant.\n",
    "There is almost no association between the number of bedrooms and the house price."
   ]
  },
  {
   "cell_type": "markdown",
   "id": "21",
   "metadata": {},
   "source": [
    "## Remove correlated variable\n",
    "\n",
    "Let's remove one of the correlated variables and re-train the model."
   ]
  },
  {
   "cell_type": "code",
   "execution_count": null,
   "id": "22",
   "metadata": {},
   "outputs": [],
   "source": [
    "X_train = X_train.drop(columns=['AveBedrms'])"
   ]
  },
  {
   "cell_type": "code",
   "execution_count": null,
   "id": "23",
   "metadata": {},
   "outputs": [],
   "source": [
    "# Train a new model, without a highly correlated feature - AveBedrms\n",
    "\n",
    "linreg = sm.OLS(y_train, X_train)\n",
    "results = linreg.fit()\n",
    "print(results.summary())"
   ]
  },
  {
   "cell_type": "code",
   "execution_count": null,
   "id": "24",
   "metadata": {},
   "outputs": [],
   "source": [
    "# Visualize the coefficient values\n",
    "\n",
    "pd.Series(results.params, index=X_train.columns).plot.bar(\n",
    "    yerr=pd.Series(results.bse))\n",
    "\n",
    "plt.ylabel(\"Coefficients' value\")\n",
    "plt.title(\"Coefficients\")\n",
    "plt.show()"
   ]
  },
  {
   "cell_type": "markdown",
   "id": "25",
   "metadata": {},
   "source": [
    "We still see that the number of bedrooms contributes negatively to the house price, even though it is positively correlated.\n",
    "\n",
    "This is probably because it is correlated to `MedInc` and there is also some degree of correlation among other variables."
   ]
  },
  {
   "cell_type": "markdown",
   "id": "26",
   "metadata": {},
   "source": [
    "## Correlation between predictors and target\n",
    "\n",
    "Let's examine each variable individually."
   ]
  },
  {
   "cell_type": "code",
   "execution_count": null,
   "id": "27",
   "metadata": {},
   "outputs": [],
   "source": [
    "plt.figure(figsize=(20, 4), dpi=80)\n",
    "\n",
    "plt.subplot(1, 5, 1)\n",
    "plt.scatter(X_train['MedInc'], y_train, marker=\"o\")\n",
    "plt.xlabel('Median income')\n",
    "plt.ylabel('House price')\n",
    "\n",
    "plt.subplot(1, 5, 2)\n",
    "plt.plot(X_train['HouseAge'], y_train,marker=\"o\", ls=\"\")\n",
    "plt.xlabel('House age')\n",
    "plt.ylabel('House price')\n",
    "\n",
    "plt.subplot(1, 5, 3)\n",
    "plt.scatter(X_train[ 'AveRooms'], y_train, marker=\"o\")\n",
    "plt.xlabel('Number of rooms')\n",
    "plt.ylabel('House price')\n",
    "\n",
    "plt.subplot(1, 5, 4)\n",
    "plt.plot(X_train['Population'], y_train,marker=\"o\", ls=\"\")\n",
    "plt.xlabel('Population')\n",
    "plt.ylabel('House price')\n",
    "\n",
    "plt.subplot(1, 5, 5)\n",
    "plt.plot(X_train['AveOccup'], y_train,marker=\"o\", ls=\"\")\n",
    "plt.xlabel('Occupancy')\n",
    "plt.ylabel('House price');"
   ]
  },
  {
   "cell_type": "code",
   "execution_count": null,
   "id": "28",
   "metadata": {},
   "outputs": [],
   "source": [
    "# Coefficients\n",
    "\n",
    "coeffs = r_regression(X_train.drop(columns=[\"const\"]), y_train)\n",
    "coeffs"
   ]
  },
  {
   "cell_type": "code",
   "execution_count": null,
   "id": "29",
   "metadata": {},
   "outputs": [],
   "source": [
    "# p values\n",
    "\n",
    "p_values = f_regression(X_train.drop(columns=[\"const\"]), y_train)[1]\n",
    "p_values"
   ]
  },
  {
   "cell_type": "code",
   "execution_count": null,
   "id": "30",
   "metadata": {},
   "outputs": [],
   "source": [
    "coeff_df = pd.DataFrame(\n",
    "    {\"corr_coef\": coeffs, \"p_values\": p_values}, index=X_train.columns[1:])\n",
    "\n",
    "coeff_df"
   ]
  },
  {
   "cell_type": "markdown",
   "id": "31",
   "metadata": {},
   "source": [
    "The contribution of `Population` and `AveOccup` seems to be negligible to the house price. If anything else, they have a negative association.\n",
    "\n",
    "However, in the model they show a positive contribution towards the target variable."
   ]
  },
  {
   "cell_type": "code",
   "execution_count": null,
   "id": "32",
   "metadata": {},
   "outputs": [],
   "source": [
    "# Let's remove those variables\n",
    "\n",
    "X_train = X_train.drop(columns=['Population', \"AveOccup\"])\n",
    "\n",
    "linreg = sm.OLS(y_train, X_train)\n",
    "results = linreg.fit()\n",
    "print(results.summary())"
   ]
  },
  {
   "cell_type": "markdown",
   "id": "33",
   "metadata": {},
   "source": [
    "We see that there is no decrease in R2 after removing those variables."
   ]
  },
  {
   "cell_type": "code",
   "execution_count": null,
   "id": "34",
   "metadata": {},
   "outputs": [],
   "source": [
    "# Coefficients value\n",
    "\n",
    "pd.Series(results.params, index=X_train.columns).plot.bar(\n",
    "    yerr=pd.Series(results.bse))\n",
    "\n",
    "plt.ylabel(\"Coefficients' value\")\n",
    "plt.title(\"Coefficients\")\n",
    "plt.show()"
   ]
  },
  {
   "cell_type": "code",
   "execution_count": null,
   "id": "35",
   "metadata": {},
   "outputs": [],
   "source": [
    "plt.scatter(X_train['MedInc'], X_train[\"AveRooms\"], marker=\"o\")\n",
    "plt.xlabel('Median income')\n",
    "plt.ylabel('AveRooms');"
   ]
  },
  {
   "cell_type": "markdown",
   "id": "36",
   "metadata": {},
   "source": [
    "What seems to be happening is that for greater `MedInc` values, and hence higher house prices, there don't seem to be houses with more rooms. And the number of rooms seems to be taking the price down after accounting for the median income."
   ]
  },
  {
   "cell_type": "code",
   "execution_count": null,
   "id": "37",
   "metadata": {},
   "outputs": [],
   "source": [
    "plt.figure(figsize=(10, 8), dpi=80)\n",
    "\n",
    "sns.scatterplot(\n",
    "    x=X_train['MedInc'],\n",
    "    y=y_train,\n",
    "    hue=pd.qcut(X_train[\"AveRooms\"], 5),\n",
    "    );"
   ]
  },
  {
   "cell_type": "code",
   "execution_count": null,
   "id": "38",
   "metadata": {},
   "outputs": [],
   "source": [
    "plt.figure(figsize=(20, 20), dpi=80)\n",
    "\n",
    "sns.jointplot(\n",
    "    x=X_train['MedInc'],\n",
    "    y=y_train,\n",
    "    hue=pd.qcut(X_train[\"AveRooms\"], 3),\n",
    ");"
   ]
  },
  {
   "cell_type": "code",
   "execution_count": null,
   "id": "39",
   "metadata": {},
   "outputs": [],
   "source": []
  }
 ],
 "metadata": {
  "kernelspec": {
   "display_name": "Python 3",
   "language": "python",
   "name": "python3"
  },
  "language_info": {
   "codemirror_mode": {
    "name": "ipython",
    "version": 2
   },
   "file_extension": ".py",
   "mimetype": "text/x-python",
   "name": "python",
   "nbconvert_exporter": "python",
   "pygments_lexer": "ipython2",
   "version": "2.7.6"
  }
 },
 "nbformat": 4,
 "nbformat_minor": 5
}
