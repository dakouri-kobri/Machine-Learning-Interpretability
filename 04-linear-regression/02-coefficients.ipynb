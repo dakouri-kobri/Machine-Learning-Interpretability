{
 "cells": [
  {
   "cell_type": "markdown",
   "id": "0",
   "metadata": {},
   "source": [
    "# Linear Regression Coefficients Variability\n",
    "\n",
    "This notebook focuses on the understanding the information provided by the linear regression model coefficients, and the calculation of their variability.\n"
   ]
  },
  {
   "cell_type": "code",
   "execution_count": null,
   "id": "1",
   "metadata": {},
   "outputs": [],
   "source": [
    "# Packages\n",
    "import numpy as np\n",
    "import pandas as pd\n",
    "import matplotlib.pyplot as plt\n",
    "\n",
    "from scipy import stats\n",
    "\n",
    "from sklearn.datasets import fetch_california_housing\n",
    "from sklearn.linear_model import LinearRegression\n",
    "from sklearn.model_selection import train_test_split\n",
    "from sklearn.preprocessing import MinMaxScaler\n",
    "\n",
    "import statsmodels.api as sm"
   ]
  },
  {
   "cell_type": "markdown",
   "id": "2",
   "metadata": {},
   "source": [
    "## Load Data"
   ]
  },
  {
   "cell_type": "code",
   "execution_count": null,
   "id": "3",
   "metadata": {},
   "outputs": [],
   "source": [
    "# load the California House price data from Scikit-learn\n",
    "X, y = fetch_california_housing(return_X_y=True, as_frame=True)\n",
    "X = X.drop(columns=[\"Latitude\", \"Longitude\"])\n",
    "\n",
    "# display top 5 rows\n",
    "X.head()"
   ]
  },
  {
   "cell_type": "markdown",
   "id": "4",
   "metadata": {},
   "source": [
    "## Train 500 models"
   ]
  },
  {
   "cell_type": "code",
   "execution_count": null,
   "id": "5",
   "metadata": {},
   "outputs": [],
   "source": [
    "# Train 500 models on different partitions of x\n",
    "\n",
    "s = dict()\n",
    "linreg = None\n",
    "\n",
    "for i in np.linspace(1, 500, num=500):\n",
    "\n",
    "    # Split data\n",
    "    X_train, X_test, y_train, y_test = train_test_split(\n",
    "        X, y, test_size=0.3, random_state=int(i))\n",
    "\n",
    "    # Train model\n",
    "    linreg = LinearRegression().fit(X_train, y_train)\n",
    "\n",
    "    # Store coefficients\n",
    "    s[str(int(i))] = pd.Series(linreg.coef_)"
   ]
  },
  {
   "cell_type": "code",
   "execution_count": null,
   "id": "6",
   "metadata": {},
   "outputs": [],
   "source": [
    "# Put coefficients in a dataframe\n",
    "\n",
    "df = pd.concat(s, axis=1)\n",
    "df.index = linreg.feature_names_in_\n",
    "df = df.T\n",
    "\n",
    "df.head()"
   ]
  },
  {
   "cell_type": "code",
   "execution_count": null,
   "id": "7",
   "metadata": {},
   "outputs": [],
   "source": [
    "# Display variability of coefficients\n",
    "\n",
    "df.hist(bins=30, figsize=(10,12))\n",
    "plt.show()"
   ]
  },
  {
   "cell_type": "code",
   "execution_count": null,
   "id": "8",
   "metadata": {},
   "outputs": [],
   "source": [
    "# Summarize variability of coefficients\n",
    "\n",
    "coeff_summary = df.agg(['mean', 'std'])\n",
    "coeff_summary"
   ]
  },
  {
   "cell_type": "markdown",
   "id": "9",
   "metadata": {},
   "source": [
    "## Coefficient direction (sign)"
   ]
  },
  {
   "cell_type": "code",
   "execution_count": null,
   "id": "10",
   "metadata": {},
   "outputs": [],
   "source": [
    "s = pd.Series(\n",
    "    coeff_summary.loc['mean'],\n",
    "    index=linreg.feature_names_in_\n",
    ")\n",
    "\n",
    "s.plot.bar(yerr=coeff_summary.loc['std'])\n",
    "plt.ylabel('Beta')\n",
    "plt.title('Coefficient value (slope)')\n",
    "plt.show()"
   ]
  },
  {
   "cell_type": "markdown",
   "id": "11",
   "metadata": {},
   "source": [
    "We can see that the variability of the coefficients is different. AveOccup/AveBedrms seems to be the most variable. In other words, it has the biggest estimation error.\n",
    "We can also see that the variables AveRooms and AveBedrms have opposite directions. We'd expect them, intuitively, to have the same direction. And we also expect those variables to be highly correlated."
   ]
  },
  {
   "cell_type": "markdown",
   "id": "12",
   "metadata": {},
   "source": []
  },
  {
   "cell_type": "code",
   "execution_count": null,
   "id": "13",
   "metadata": {},
   "outputs": [],
   "source": []
  }
 ],
 "metadata": {
  "kernelspec": {
   "display_name": "Python 3",
   "language": "python",
   "name": "python3"
  },
  "language_info": {
   "codemirror_mode": {
    "name": "ipython",
    "version": 2
   },
   "file_extension": ".py",
   "mimetype": "text/x-python",
   "name": "python",
   "nbconvert_exporter": "python",
   "pygments_lexer": "ipython2",
   "version": "2.7.6"
  }
 },
 "nbformat": 4,
 "nbformat_minor": 5
}
