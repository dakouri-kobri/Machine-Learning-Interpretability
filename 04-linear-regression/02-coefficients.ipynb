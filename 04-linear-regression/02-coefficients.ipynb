{
 "cells": [
  {
   "cell_type": "markdown",
   "id": "0",
   "metadata": {},
   "source": [
    "# Linear Regression Coefficients Variability\n",
    "\n",
    "This notebook focuses on the understanding the information provided by the linear regression model coefficients, and the calculation of their variability.\n"
   ]
  },
  {
   "cell_type": "code",
   "execution_count": null,
   "id": "1",
   "metadata": {},
   "outputs": [],
   "source": [
    "# Packages\n",
    "import numpy as np\n",
    "import pandas as pd\n",
    "import matplotlib.pyplot as plt\n",
    "\n",
    "from scipy import stats\n",
    "\n",
    "from sklearn.datasets import fetch_california_housing\n",
    "from sklearn.linear_model import LinearRegression\n",
    "from sklearn.model_selection import train_test_split, cross_validate\n",
    "from sklearn.preprocessing import MinMaxScaler\n",
    "\n",
    "import statsmodels.api as sm"
   ]
  },
  {
   "cell_type": "markdown",
   "id": "2",
   "metadata": {},
   "source": [
    "## Load Data"
   ]
  },
  {
   "cell_type": "code",
   "execution_count": null,
   "id": "3",
   "metadata": {},
   "outputs": [],
   "source": [
    "# load the California House price data from Scikit-learn\n",
    "X, y = fetch_california_housing(return_X_y=True, as_frame=True)\n",
    "X = X.drop(columns=[\"Latitude\", \"Longitude\"])\n",
    "\n",
    "# scale the variables\n",
    "X = MinMaxScaler().set_output(transform=\"pandas\").fit_transform(X)\n",
    "\n",
    "# display top 5 rows\n",
    "X.head()"
   ]
  },
  {
   "cell_type": "markdown",
   "id": "4",
   "metadata": {},
   "source": [
    "## Train 500 models"
   ]
  },
  {
   "cell_type": "code",
   "execution_count": null,
   "id": "5",
   "metadata": {},
   "outputs": [],
   "source": [
    "# Train 500 models on different partitions of x\n",
    "\n",
    "s = dict()\n",
    "linreg = None\n",
    "X_train, X_test, y_train, y_test = None, None, None, None\n",
    "\n",
    "for i in np.linspace(1, 500, num=500):\n",
    "\n",
    "    # Split data\n",
    "    X_train, X_test, y_train, y_test = train_test_split(\n",
    "        X, y, test_size=0.3, random_state=int(i))\n",
    "\n",
    "    # Train model\n",
    "    linreg = LinearRegression().fit(X_train, y_train)\n",
    "\n",
    "    # Store coefficients\n",
    "    s[str(int(i))] = pd.Series(linreg.coef_)"
   ]
  },
  {
   "cell_type": "code",
   "execution_count": null,
   "id": "6",
   "metadata": {},
   "outputs": [],
   "source": [
    "# Put coefficients in a dataframe\n",
    "\n",
    "df = pd.concat(s, axis=1)\n",
    "df.index = linreg.feature_names_in_\n",
    "df = df.T\n",
    "\n",
    "df.head()"
   ]
  },
  {
   "cell_type": "code",
   "execution_count": null,
   "id": "7",
   "metadata": {},
   "outputs": [],
   "source": [
    "# Display variability of coefficients\n",
    "\n",
    "df.hist(bins=30, figsize=(10,12))\n",
    "plt.show()"
   ]
  },
  {
   "cell_type": "code",
   "execution_count": null,
   "id": "8",
   "metadata": {},
   "outputs": [],
   "source": [
    "# Summarize variability of coefficients\n",
    "\n",
    "coeff_summary = df.agg(['mean', 'std'])\n",
    "coeff_summary"
   ]
  },
  {
   "cell_type": "markdown",
   "id": "9",
   "metadata": {},
   "source": [
    "## Coefficient direction (sign)"
   ]
  },
  {
   "cell_type": "code",
   "execution_count": null,
   "id": "10",
   "metadata": {},
   "outputs": [],
   "source": [
    "s = pd.Series(\n",
    "    coeff_summary.loc['mean'],\n",
    "    index=linreg.feature_names_in_\n",
    ")\n",
    "\n",
    "s.plot.bar(yerr=coeff_summary.loc['std'])\n",
    "plt.ylabel('Beta')\n",
    "plt.title('Coefficient value (slope)')\n",
    "plt.show()"
   ]
  },
  {
   "cell_type": "markdown",
   "id": "11",
   "metadata": {},
   "source": [
    "We can see that the variability of the coefficients is different. AveOccup seems to be the most variable. In other words, it has the biggest estimation error.\n",
    "We can also see that the variables AveRooms and AveBedrms have opposite directions. We'd, intuitively, expect them to have the same direction. And we also expect those variables to be highly correlated."
   ]
  },
  {
   "cell_type": "markdown",
   "id": "12",
   "metadata": {},
   "source": [
    "## Compare Absolute Values of Coefficients - Feature Importance\n",
    "\n",
    "This is what is normally used as a measure of feature importance. Here we determine the contribution of each feature to the target."
   ]
  },
  {
   "cell_type": "code",
   "execution_count": null,
   "id": "13",
   "metadata": {},
   "outputs": [],
   "source": [
    "# Plot mean coefficient and std\n",
    "\n",
    "s = pd.Series(\n",
    "    np.abs(coeff_summary.loc['mean']),\n",
    "    index=linreg.feature_names_in_\n",
    ")\n",
    "\n",
    "s.plot.bar(yerr=coeff_summary.loc['std'])\n",
    "plt.ylabel('Absolute coefficient values')\n",
    "plt.title('Absolute coefficient values')\n",
    "plt.show()"
   ]
  },
  {
   "cell_type": "markdown",
   "id": "14",
   "metadata": {},
   "source": [
    "From the previous plot, we'd expect the variables AveRooms and AveBedrms to be the ones with the highest importance. However, the coefficients for those variables also show more variability or a bigger error. Consequently, we can trust them less."
   ]
  },
  {
   "cell_type": "markdown",
   "id": "15",
   "metadata": {},
   "source": [
    "## t"
   ]
  },
  {
   "cell_type": "code",
   "execution_count": null,
   "id": "16",
   "metadata": {},
   "outputs": [],
   "source": [
    "# Estimate and plot t\n",
    "\n",
    "s = pd.Series(\n",
    "    np.abs(coeff_summary.loc['mean'])/coeff_summary.loc['std'],\n",
    "    index=linreg.feature_names_in_\n",
    ")\n",
    "\n",
    "s.plot.bar()\n",
    "plt.ylabel('t')\n",
    "plt.title('t')\n",
    "plt.show()"
   ]
  },
  {
   "cell_type": "markdown",
   "id": "17",
   "metadata": {},
   "source": [
    "After correction of the coefficients by their respective error, MedInc appears to be a most robust predictor for house price."
   ]
  },
  {
   "cell_type": "markdown",
   "id": "18",
   "metadata": {},
   "source": [
    "## Cross Validation\n",
    "\n",
    "We won't probably need to train 500 models to obtain the coefficient errors, but we could infer them by using cross-validation."
   ]
  },
  {
   "cell_type": "code",
   "execution_count": null,
   "id": "19",
   "metadata": {},
   "outputs": [],
   "source": [
    "# We use cross validation to estimate the coefficient variability\n",
    "\n",
    "results = cross_validate(\n",
    "    estimator=linreg,\n",
    "    X=X_train,\n",
    "    y=y_train,\n",
    "    scoring='r2',\n",
    "    cv=5,\n",
    "    return_train_score=True,\n",
    "    return_estimator=True,\n",
    ")\n",
    "\n",
    "pd.DataFrame(results)"
   ]
  },
  {
   "cell_type": "code",
   "execution_count": null,
   "id": "20",
   "metadata": {},
   "outputs": [],
   "source": [
    "# R2 in train set\n",
    "\n",
    "print(\"R2 in train set: mean, std:\")\n",
    "print(f\"{np.mean(results['train_score'])}, {np.std(results['train_score'])}\")"
   ]
  },
  {
   "cell_type": "code",
   "execution_count": null,
   "id": "21",
   "metadata": {},
   "outputs": [],
   "source": [
    "# R2 in test set\n",
    "\n",
    "print(\"R2 in test set: mean, std:\")\n",
    "print(f\"{np.mean(results['test_score'])}, {np.std(results['test_score'])}\")"
   ]
  }
 ],
 "metadata": {
  "kernelspec": {
   "display_name": "Python 3",
   "language": "python",
   "name": "python3"
  },
  "language_info": {
   "codemirror_mode": {
    "name": "ipython",
    "version": 2
   },
   "file_extension": ".py",
   "mimetype": "text/x-python",
   "name": "python",
   "nbconvert_exporter": "python",
   "pygments_lexer": "ipython2",
   "version": "2.7.6"
  }
 },
 "nbformat": 4,
 "nbformat_minor": 5
}
